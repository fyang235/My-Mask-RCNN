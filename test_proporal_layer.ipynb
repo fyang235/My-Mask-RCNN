{
 "cells": [
  {
   "cell_type": "code",
   "execution_count": 1,
   "metadata": {},
   "outputs": [
    {
     "name": "stderr",
     "output_type": "stream",
     "text": [
      "Using TensorFlow backend.\n"
     ]
    }
   ],
   "source": [
    "import numpy as np\n",
    "import matplotlib.pyplot as plt\n",
    "import matplotlib.patches as patches\n",
    "import model\n",
    "from model import ProposalLayer\n",
    "from config import Config\n",
    "import tensorflow as tf\n",
    "import keras \n",
    "import keras.layers as KL\n",
    "import keras.models as KM\n",
    "\n",
    "config = Config()\n",
    "\n",
    "def generate_random_boxes(num =10):\n",
    "    x1 = np.random.random([num, 1])\n",
    "    y1 = np.random.random([num, 1])\n",
    "    w = np.random.random([num, 1])\n",
    "    h = np.random.random([num, 1])\n",
    "    \n",
    "    x2 = x1 + w/2\n",
    "    y2 = y1 + h/2\n",
    "    \n",
    "    boxes = np.concatenate(np.array([y1, x1, y2, x2]), axis=1)\n",
    "    return boxes"
   ]
  },
  {
   "cell_type": "code",
   "execution_count": 2,
   "metadata": {
    "scrolled": true
   },
   "outputs": [
    {
     "name": "stdout",
     "output_type": "stream",
     "text": [
      "anchors shape:  (10, 4)\n",
      "delta_box shape:  (10, 4)\n",
      "boxes shape:  (10, 4)\n",
      "scores shape:  (1, 10)\n"
     ]
    }
   ],
   "source": [
    "scale = 1024\n",
    "\n",
    "# create anchors\n",
    "anchors = generate_random_boxes(10) * scale\n",
    "# anchors = np.expand_dims(anchors, axis=0)\n",
    "print('anchors shape: ', anchors.shape)\n",
    "# print(anchors)\n",
    "\n",
    "# create deltas\n",
    "delta_box = np.random.random([4])\n",
    "delta_box = np.broadcast_to(delta_box, [10, 4])\n",
    "print('delta_box shape: ', delta_box.shape)\n",
    "# print(delta_box)\n",
    "\n",
    "# create gtdelta_box\n",
    "boxes = model.apply_deltas_to_boxes(anchors, delta_box, config)\n",
    "print('boxes shape: ', boxes.shape)\n",
    "\n",
    "# create scores\n",
    "scores = np.random.random([1, 10])\n",
    "print('scores shape: ', scores.shape)\n",
    "\n"
   ]
  },
  {
   "cell_type": "code",
   "execution_count": 3,
   "metadata": {},
   "outputs": [
    {
     "name": "stdout",
     "output_type": "stream",
     "text": [
      "anchors shape:  (1, 10, 4)\n",
      "delta_box shape:  (1, 10, 4)\n",
      "boxes shape:  (1, 10, 4)\n"
     ]
    }
   ],
   "source": [
    "anchors = np.expand_dims(anchors, axis=0)\n",
    "print('anchors shape: ', anchors.shape)\n",
    "\n",
    "delta_box = np.expand_dims(delta_box, axis=0)\n",
    "print('delta_box shape: ', delta_box.shape)\n",
    "\n",
    "boxes = np.expand_dims(boxes, axis=0)\n",
    "print('boxes shape: ', boxes.shape)"
   ]
  },
  {
   "cell_type": "code",
   "execution_count": 4,
   "metadata": {
    "scrolled": true
   },
   "outputs": [
    {
     "name": "stdout",
     "output_type": "stream",
     "text": [
      "WARNING:tensorflow:From /home/yang/.conda/envs/py3/lib/python3.6/site-packages/tensorflow/python/framework/op_def_library.py:263: colocate_with (from tensorflow.python.framework.ops) is deprecated and will be removed in a future version.\n",
      "Instructions for updating:\n",
      "Colocations handled automatically by placer.\n",
      "[[[ 810.31067  809.08905  899.235   1024.     ]\n",
      "  [ 258.2124   591.5453   475.40894 1024.     ]\n",
      "  [ 205.94318   88.72308  323.88     137.7234 ]\n",
      "  [ 684.3557   742.6277  1024.       804.5142 ]\n",
      "  [ 495.893    152.19481  757.99115  399.55237]]] (1, 5, 4)\n"
     ]
    }
   ],
   "source": [
    "proposal_count = 5\n",
    "nms_threshold = 0.3\n",
    "\n",
    "rpn_class_probs = np.broadcast_to(np.expand_dims(scores, axis=2), [1, 10, 2])\n",
    "rpn_reg_logits = delta_box\n",
    "input_anchors = anchors\n",
    "        \n",
    "# rpn_class_probs = tf.constant(rpn_class_probs)\n",
    "# rpn_reg_logits = tf.constant(rpn_reg_logits)\n",
    "# input_anchors = tf.constant(input_anchors)\n",
    "\n",
    "dummy_input = KL.Input(shape=(1,1))\n",
    "rpn_class_probs = KL.Lambda(lambda x: tf.Variable(rpn_class_probs))(dummy_input)\n",
    "rpn_reg_logits = KL.Lambda(lambda x: tf.Variable(rpn_reg_logits))(dummy_input)\n",
    "input_anchors = KL.Lambda(lambda x: tf.Variable(input_anchors))(dummy_input)\n",
    "\n",
    "proposals = ProposalLayer(proposal_count, \n",
    "                          nms_threshold, \n",
    "                          config,           \n",
    "                          name='proposal_layer')([rpn_class_probs,\n",
    "                                                  rpn_reg_logits,\n",
    "                                                  input_anchors])\n",
    "Kmodel = KM.Model(dummy_input, proposals)\n",
    "Kmodel.compile('sgd','binary_crossentropy')\n",
    "\n",
    "input = np.random.random([1,1,1])\n",
    "rois = Kmodel.predict(input)\n",
    "\n",
    "print(rois, rois.shape)"
   ]
  },
  {
   "cell_type": "code",
   "execution_count": 8,
   "metadata": {},
   "outputs": [
    {
     "data": {
      "image/png": "[encoded data removed]",
      "text/plain": [
       "<Figure size 720x720 with 1 Axes>"
      ]
     },
     "metadata": {},
     "output_type": "display_data"
    }
   ],
   "source": [
    "fig, ax = plt.subplots(1 , figsize=(10, 10))\n",
    "# revese y axi\n",
    "# ax.set_ylim(ax.get_ylim()[::-1])\n",
    "delta = 100\n",
    "ax.set_ylim([scale+delta, 0-delta])\n",
    "ax.set_xlim([0-delta, scale+delta])\n",
    "# plot anchors\n",
    "for i, box in enumerate(anchors[0]):\n",
    "    y1, x1, y2, x2 = box\n",
    "    p = patches.Rectangle((x1, y1), x2-x1, y2-y1,\n",
    "                         linewidth=2,\n",
    "                          alpha=0.7, \n",
    "                          linestyle=\"dashed\",\n",
    "                          edgecolor=[1,0,0], \n",
    "                          facecolor='none')\n",
    "    ax.add_patch(p)\n",
    "    \n",
    "    ax.text(x1, y1, \n",
    "        round(scores[0][i], 3),\n",
    "        color='black', size=11, backgroundcolor=\"none\")\n",
    "# plot gt_boxes\n",
    "for i, box in enumerate(boxes[0]):\n",
    "    y1, x1, y2, x2 = box\n",
    "    p = patches.Rectangle((x1, y1), x2-x1, y2-y1,\n",
    "                         linewidth=2,\n",
    "                          alpha=0.7, \n",
    "                          linestyle=\"dashed\",\n",
    "                          edgecolor=[0,1,0], \n",
    "                          facecolor='none')\n",
    "    ax.add_patch(p)\n",
    "# plot rois\n",
    "for i, box in enumerate(rois[0]):\n",
    "    y1, x1, y2, x2 = box\n",
    "    p = patches.Rectangle((x1, y1), x2-x1, y2-y1,\n",
    "                         linewidth=2,\n",
    "                          alpha=0.7, \n",
    "                          linestyle=\"dashed\",\n",
    "                          edgecolor=[0,0,1], \n",
    "                          facecolor='none')\n",
    "    ax.add_patch(p)\n",
    "# plot [0,0,1024,1024]\n",
    "boundary = [0,0,1024,1024]\n",
    "y1, x1, y2, x2 = boundary\n",
    "p = patches.Rectangle((x1, y1), x2-x1, y2-y1,\n",
    "                     linewidth=2,\n",
    "                      alpha=0.7, \n",
    "                      linestyle=\"solid\",\n",
    "                      edgecolor=[0,1,1], \n",
    "                      facecolor='none')\n",
    "ax.add_patch(p)\n",
    "    \n",
    "plt.show()"
   ]
  },
  {
   "cell_type": "code",
   "execution_count": null,
   "metadata": {
    "collapsed": true
   },
   "outputs": [],
   "source": []
  }
 ],
 "metadata": {
  "kernelspec": {
   "display_name": "Python 3",
   "language": "python",
   "name": "python3"
  },
  "language_info": {
   "codemirror_mode": {
    "name": "ipython",
    "version": 3
   },
   "file_extension": ".py",
   "mimetype": "text/x-python",
   "name": "python",
   "nbconvert_exporter": "python",
   "pygments_lexer": "ipython3",
   "version": "3.6.2"
  }
 },
 "nbformat": 4,
 "nbformat_minor": 2
}
