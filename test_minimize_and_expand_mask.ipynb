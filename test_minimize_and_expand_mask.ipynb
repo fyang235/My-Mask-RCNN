{
 "cells": [
  {
   "cell_type": "code",
   "execution_count": 1,
   "metadata": {},
   "outputs": [
    {
     "name": "stderr",
     "output_type": "stream",
     "text": [
      "Using TensorFlow backend.\n"
     ]
    },
    {
     "name": "stdout",
     "output_type": "stream",
     "text": [
      "loading annotations into memory...\n",
      "Done (t=0.64s)\n",
      "creating index...\n",
      "index created!\n",
      "num_of_classes: 81\n",
      "Number of images: 14631\n",
      "Number of classes: 81\n"
     ]
    }
   ],
   "source": [
    "import tensorflow as tf\n",
    "tf.enable_eager_execution()\n",
    "import numpy as np\n",
    "import matplotlib.pyplot as plt\n",
    "import matplotlib.patches as patches\n",
    "import model\n",
    "from model import ProposalLayer, Dataset\n",
    "from config import Config\n",
    "import tensorflow as tf\n",
    "import keras \n",
    "import keras.layers as KL\n",
    "import keras.models as KM\n",
    "config = Config()\n",
    "dataset = model.Dataset(config=config, \n",
    "                        path=r'/home/yang/Downloads/COCO-dataset',\n",
    "                        subset='val2017')"
   ]
  },
  {
   "cell_type": "code",
   "execution_count": 2,
   "metadata": {
    "collapsed": true
   },
   "outputs": [],
   "source": [
    "import skimage"
   ]
  },
  {
   "cell_type": "code",
   "execution_count": 3,
   "metadata": {
    "scrolled": true
   },
   "outputs": [
    {
     "name": "stdout",
     "output_type": "stream",
     "text": [
      "Feature map size: [256, 256], number of anchors: 49152\n",
      "Feature map size: [128, 128], number of anchors: 12288\n",
      "Feature map size: [64, 64], number of anchors: 3072\n",
      "Feature map size: [32, 32], number of anchors: 768\n",
      "Feature map size: [16, 16], number of anchors: 192\n",
      "Total number of anchors:      65472\n"
     ]
    },
    {
     "name": "stderr",
     "output_type": "stream",
     "text": [
      "/home/yang/.conda/envs/py3/lib/python3.6/site-packages/skimage/transform/_warps.py:105: UserWarning: The default mode, 'constant', will be changed to 'reflect' in skimage 0.15.\n",
      "  warn(\"The default mode, 'constant', will be changed to 'reflect' in \"\n",
      "/home/yang/.conda/envs/py3/lib/python3.6/site-packages/skimage/transform/_warps.py:110: UserWarning: Anti-aliasing will be enabled by default in skimage 0.15 to avoid aliasing artifacts when down-sampling images.\n",
      "  warn(\"Anti-aliasing will be enabled by default in skimage 0.15 to \"\n"
     ]
    },
    {
     "name": "stdout",
     "output_type": "stream",
     "text": [
      "DEBUGGING====> (1024, 1024, 6)\n",
      "\n",
      " batch_image.shape: (1, 1024, 1024, 3)\n",
      " batch_anchors_match.shape: (1, 65472, 1)\n",
      " batch_anchors_delta_bbox.shape: (1, 256, 4)\n",
      " batch_mrcnn_classes.shape: (1, 100)\n",
      " batch_mrcnn_bboxes.shape: (1, 100, 4)\n",
      " batch_mrcnn_masks.shape: (1, 1024, 1024, 100)\n",
      "\n"
     ]
    }
   ],
   "source": [
    "generator = dataset.data_generator()\n",
    "inputs, outputs = next(generator)\n",
    "\n",
    "batch_image, \\\n",
    "batch_anchors_match, batch_anchors_delta_bbox,\\\n",
    "batch_mrcnn_classes, batch_mrcnn_bboxes, batch_mrcnn_masks = inputs\n",
    "\n",
    "print('\\n',\n",
    "    'batch_image.shape: {}\\n'.format(batch_image.shape), \n",
    "    'batch_anchors_match.shape: {}\\n'.format(batch_anchors_match.shape), \n",
    "    'batch_anchors_delta_bbox.shape: {}\\n'.format(batch_anchors_delta_bbox.shape),\n",
    "    'batch_mrcnn_classes.shape: {}\\n'.format(batch_mrcnn_classes.shape),\n",
    "    'batch_mrcnn_bboxes.shape: {}\\n'.format(batch_mrcnn_bboxes.shape),\n",
    "    'batch_mrcnn_masks.shape: {}\\n'.format(batch_mrcnn_masks.shape))"
   ]
  },
  {
   "cell_type": "code",
   "execution_count": 4,
   "metadata": {},
   "outputs": [
    {
     "data": {
      "text/plain": [
       "(1024, 1024, 100)"
      ]
     },
     "execution_count": 4,
     "metadata": {},
     "output_type": "execute_result"
    }
   ],
   "source": [
    "original_masks = batch_mrcnn_masks[0]\n",
    "original_masks.shape"
   ]
  },
  {
   "cell_type": "code",
   "execution_count": 5,
   "metadata": {},
   "outputs": [
    {
     "data": {
      "text/plain": [
       "(100, 4)"
      ]
     },
     "execution_count": 5,
     "metadata": {},
     "output_type": "execute_result"
    }
   ],
   "source": [
    "bboxes = batch_mrcnn_bboxes[0]\n",
    "bboxes.shape"
   ]
  },
  {
   "cell_type": "code",
   "execution_count": 6,
   "metadata": {},
   "outputs": [
    {
     "data": {
      "text/plain": [
       "6"
      ]
     },
     "execution_count": 6,
     "metadata": {},
     "output_type": "execute_result"
    }
   ],
   "source": [
    "loc = np.sum(np.sum(bboxes, axis=1) != 0)\n",
    "loc"
   ]
  },
  {
   "cell_type": "code",
   "execution_count": 7,
   "metadata": {},
   "outputs": [
    {
     "data": {
      "text/plain": [
       "(array([[ 561.552  ,  365.152  ,  793.984  ,  645.824  ],\n",
       "        [ 211.024  ,  485.968  ,  902.912  ,  852.672  ],\n",
       "        [ 550.208  ,  371.328  ,  821.968  ,  482.128  ],\n",
       "        [ 536.352  ,  248.97601,  567.856  ,  293.63202],\n",
       "        [ 270.32   ,  508.272  ,  312.     ,  537.184  ],\n",
       "        [  73.328  ,  177.584  , 1008.83203,  417.776  ]], dtype=float32),\n",
       " (1024, 1024, 6))"
      ]
     },
     "execution_count": 7,
     "metadata": {},
     "output_type": "execute_result"
    }
   ],
   "source": [
    "bboxes = bboxes[:loc]\n",
    "original_masks = original_masks[:,:,:loc]\n",
    "bboxes, original_masks.shape"
   ]
  },
  {
   "cell_type": "code",
   "execution_count": 8,
   "metadata": {},
   "outputs": [],
   "source": [
    "bboxes = bboxes.astype(np.int32)\n",
    "size = [28, 28]\n",
    "mini_masks = np.zeros(size + [100], dtype=np.int32)\n",
    "for i in range(original_masks.shape[-1]):\n",
    "    mask = original_masks[:,:,i]\n",
    "    y1, x1, y2, x2 = bboxes[i]\n",
    "    m = mask[y1:y2, x1:x2]\n",
    "    m = skimage.transform.resize(m, size)\n",
    "    mini_masks[:,:,i] = m.astype(np.int32)\n",
    "    "
   ]
  },
  {
   "cell_type": "code",
   "execution_count": 9,
   "metadata": {},
   "outputs": [
    {
     "data": {
      "text/plain": [
       "(28, 28, 100)"
      ]
     },
     "execution_count": 9,
     "metadata": {},
     "output_type": "execute_result"
    }
   ],
   "source": [
    "mini_masks.shape"
   ]
  },
  {
   "cell_type": "code",
   "execution_count": 10,
   "metadata": {},
   "outputs": [
    {
     "data": {
      "image/png": "[encoded data removed]",
      "text/plain": [
       "<Figure size 432x288 with 1 Axes>"
      ]
     },
     "metadata": {},
     "output_type": "display_data"
    }
   ],
   "source": [
    "plt.imshow(mini_masks[:,:,0])\n",
    "plt.show()"
   ]
  },
  {
   "cell_type": "code",
   "execution_count": 11,
   "metadata": {},
   "outputs": [
    {
     "data": {
      "image/png": "[encoded data removed]",
      "text/plain": [
       "<Figure size 432x288 with 1 Axes>"
      ]
     },
     "metadata": {},
     "output_type": "display_data"
    }
   ],
   "source": [
    "plt.imshow(original_masks[:,:,0])\n",
    "plt.show()"
   ]
  },
  {
   "cell_type": "code",
   "execution_count": 12,
   "metadata": {},
   "outputs": [],
   "source": [
    "def minimize_mask(original_masks, size, bboxes):\n",
    "    '''\n",
    "    get minimask to reduce memory cost\n",
    "    '''\n",
    "    bboxes = bboxes.astype(np.int32)\n",
    "    num = original_masks.shape[-1]\n",
    "    mini_masks = np.zeros(size + [num], dtype=np.int32)\n",
    "    for i in range(num):\n",
    "        mask = original_masks[:,:,i]\n",
    "        y1, x1, y2, x2 = bboxes[i]\n",
    "        m = mask[y1:y2, x1:x2]\n",
    "        m = skimage.transform.resize(m, size)\n",
    "        mini_masks[:,:,i] = m.astype(np.int32)\n",
    "    return mini_masks\n",
    "\n",
    "size = [28, 28]\n",
    "mini_masks = minimize_mask(original_masks, size, bboxes)"
   ]
  },
  {
   "cell_type": "code",
   "execution_count": 13,
   "metadata": {},
   "outputs": [
    {
     "data": {
      "image/png": "[encoded data removed]",
      "text/plain": [
       "<Figure size 432x288 with 1 Axes>"
      ]
     },
     "metadata": {},
     "output_type": "display_data"
    }
   ],
   "source": [
    "plt.imshow(mini_masks[:,:,0])\n",
    "plt.show()"
   ]
  },
  {
   "cell_type": "code",
   "execution_count": 17,
   "metadata": {},
   "outputs": [
    {
     "data": {
      "text/plain": [
       "(28, 28, 6)"
      ]
     },
     "execution_count": 17,
     "metadata": {},
     "output_type": "execute_result"
    }
   ],
   "source": [
    "bboxes.shape\n",
    "mini_masks.shape"
   ]
  },
  {
   "cell_type": "code",
   "execution_count": 29,
   "metadata": {},
   "outputs": [
    {
     "data": {
      "image/png": "[encoded data removed]",
      "text/plain": [
       "<Figure size 432x288 with 1 Axes>"
      ]
     },
     "metadata": {},
     "output_type": "display_data"
    }
   ],
   "source": [
    "def expand_mask(mini_masks, size, bboxes):\n",
    "    bboxes = bboxes.astype(np.int32)\n",
    "    num =  mini_masks.shape[-1]\n",
    "    masks = np.zeros(size + [num], dtype=np.int32)\n",
    "    for i in range(num):\n",
    "        mask = mini_masks[:,:,i]\n",
    "        y1, x1, y2, x2 = bboxes[i]\n",
    "        h = y2 - y1\n",
    "        w = x2 - x1\n",
    "        m = skimage.transform.resize(mask, [h, w], preserve_range=True)\n",
    "        masks[y1:y2, x1:x2, i] = m.astype(np.int32)\n",
    "    return masks\n",
    "\n",
    "size = [1024, 1024]\n",
    "masks = expand_mask(mini_masks, size, bboxes)\n",
    "\n",
    "plt.imshow(masks[:,:,0])\n",
    "plt.show()"
   ]
  },
  {
   "cell_type": "code",
   "execution_count": 19,
   "metadata": {},
   "outputs": [
    {
     "data": {
      "text/plain": [
       "(1024, 1024, 6)"
      ]
     },
     "execution_count": 19,
     "metadata": {},
     "output_type": "execute_result"
    }
   ],
   "source": [
    "masks.shape"
   ]
  },
  {
   "cell_type": "code",
   "execution_count": null,
   "metadata": {
    "collapsed": true
   },
   "outputs": [],
   "source": []
  }
 ],
 "metadata": {
  "kernelspec": {
   "display_name": "Python 3",
   "language": "python",
   "name": "python3"
  },
  "language_info": {
   "codemirror_mode": {
    "name": "ipython",
    "version": 3
   },
   "file_extension": ".py",
   "mimetype": "text/x-python",
   "name": "python",
   "nbconvert_exporter": "python",
   "pygments_lexer": "ipython3",
   "version": "3.6.2"
  }
 },
 "nbformat": 4,
 "nbformat_minor": 2
}
